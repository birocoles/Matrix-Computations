{
 "cells": [
  {
   "cell_type": "markdown",
   "metadata": {},
   "source": [
    "# Householder QR"
   ]
  },
  {
   "cell_type": "markdown",
   "metadata": {},
   "source": [
    "### References\n",
    "\n",
    "* Lawson, C. L,. and Hanson, R. J. (1995). Solving least squares problems. SIAM, ISBN 0-89871-356-0\n",
    "\n",
    "* Golub, G. H. and C. F. Van Loan, (2013), Matrix computations, 4th edition, Johns Hopkins University Press, ISBN 978-1-4214-0794-4."
   ]
  },
  {
   "cell_type": "code",
   "execution_count": 1,
   "metadata": {},
   "outputs": [],
   "source": [
    "import numpy as np\n",
    "import matplotlib.pyplot as plt"
   ]
  },
  {
   "cell_type": "code",
   "execution_count": 2,
   "metadata": {},
   "outputs": [],
   "source": [
    "import plot_functions as plf\n",
    "import matcomp_algorithms as mca\n",
    "np.set_printoptions(precision=3)\n",
    "#np.set_printoptions(suppress=True)"
   ]
  },
  {
   "cell_type": "markdown",
   "metadata": {},
   "source": [
    "### Definition"
   ]
  },
  {
   "cell_type": "markdown",
   "metadata": {},
   "source": [
    "Let $\\mathbf{A}$ be an $M \\times N$ real matrix, with $M \\ge N$ and full column rank. In this case, $\\mathbf{A}$ admits the unique factorization (Golub and Van Loan, 2013, p. 248):"
   ]
  },
  {
   "cell_type": "markdown",
   "metadata": {},
   "source": [
    "<a id='eq1'></a>\n",
    "$$\n",
    "\\mathbf{A} = \\mathbf{Q} \\, \\mathbf{R} \\quad , \\tag{1}\n",
    "$$"
   ]
  },
  {
   "cell_type": "markdown",
   "metadata": {},
   "source": [
    "where $\\mathbf{Q}$ is a real $M \\times M$ orthogonal matrix and $\\mathbf{R}$ is a real $M \\times N$ upper triangular matrix with positive diagonal entries. Moreover, $\\mathbf{R} = \\mathbf{G}^{\\top}$, where $\\mathbf{G}$ is the lower triangular Cholesky factor of $\\mathbf{A}^{\\top}\\mathbf{A}$. This factorization is called **thin QR decomposition**.\n",
    "\n",
    "The present notebook illustrates how to use the Householder transformation (see the notebook [`Householder_transformation`](https://github.com/birocoles/Matrix-Computations/blob/main/code/Householder_transformation.ipynb)) for computing the QR decomposition (equation [1](#1))."
   ]
  },
  {
   "cell_type": "markdown",
   "metadata": {},
   "source": [
    "### Create a matrix $\\mathbf{A}$"
   ]
  },
  {
   "cell_type": "code",
   "execution_count": 3,
   "metadata": {},
   "outputs": [],
   "source": [
    "np.random.seed(6)\n",
    "M = 13\n",
    "N = 10"
   ]
  },
  {
   "cell_type": "code",
   "execution_count": 4,
   "metadata": {},
   "outputs": [],
   "source": [
    "A = np.random.rand(M,N)"
   ]
  },
  {
   "cell_type": "code",
   "execution_count": 5,
   "metadata": {},
   "outputs": [
    {
     "data": {
      "image/png": "[encoded data removed]",
      "text/plain": [
       "<Figure size 576x288 with 2 Axes>"
      ]
     },
     "metadata": {
      "needs_background": "light"
     },
     "output_type": "display_data"
    }
   ],
   "source": [
    "plf.plot_matrices(matrices=[A], size=(8,4), tol=1e-15, shape=(1,1))"
   ]
  },
  {
   "cell_type": "markdown",
   "metadata": {},
   "source": [
    "### Compute the QR factorization of matrix $\\mathbf{A}$ "
   ]
  },
  {
   "cell_type": "markdown",
   "metadata": {},
   "source": [
    "The Householder transformation is an efficient way of introducing zeros in vectors or matrices (see the notebook [`Householder_transformation`](https://github.com/birocoles/Matrix-Computations/blob/main/code/Householder_transformation.ipynb)). The following cells illustrate how to apply successive Householder transformations to $\\mathbf{A}$, so that:"
   ]
  },
  {
   "cell_type": "markdown",
   "metadata": {},
   "source": [
    "<a id='eq2'></a>\n",
    "$$\n",
    "\\mathbf{R} = \\underbrace{\\left( \\mathbf{H}_{(N-2)} \\, \\cdots \\, \\mathbf{H}_{(0)} \\right)}_{\\mathbf{Q}^{\\top}} \\:\\: \\mathbf{A} \\quad , \\tag{2}\n",
    "$$"
   ]
  },
  {
   "cell_type": "markdown",
   "metadata": {},
   "source": [
    "where"
   ]
  },
  {
   "cell_type": "markdown",
   "metadata": {},
   "source": [
    "<a id='eq3'></a>\n",
    "$$\n",
    "\\mathbf{H}_{(j)} = \n",
    "\\begin{cases}\n",
    "\\mathbf{P}_{M \\, \\times \\, M} &, \\quad j = 0 \\\\\n",
    "\\begin{bmatrix} \n",
    "\\mathbf{I}_{j \\, \\times \\, j} & \\mathbf{0}_{M-j \\, \\times \\, M-j} \\\\\n",
    "\\mathbf{0}_{M-j \\, \\times \\, M-j} & \\mathbf{P}_{M-j \\, \\times \\, M-j}\n",
    "\\end{bmatrix}_{M \\times M} &, \\quad j = 1, \\dots, N-2 \n",
    "\\end{cases} \\quad,  \\tag{3}\n",
    "$$"
   ]
  },
  {
   "cell_type": "markdown",
   "metadata": {},
   "source": [
    "$\\mathbf{P}$ is the Householder transformation computed with $\\mathbf{A}[\\, j: \\, , \\, j \\, ]$, $\\mathbf{I}_{j \\, \\times \\, j}$ is the identity of order $j$ and $\\mathbf{0}_{M-j \\, \\times \\, M-j}$ is a matrix of zeros."
   ]
  },
  {
   "cell_type": "markdown",
   "metadata": {},
   "source": [
    "#### Compute the successive products"
   ]
  },
  {
   "cell_type": "code",
   "execution_count": 6,
   "metadata": {},
   "outputs": [],
   "source": [
    "v = []\n",
    "beta = []\n",
    "H = []\n",
    "P = [A]\n",
    "R = A.copy()\n",
    "for j in range(N):\n",
    "    \n",
    "    # Compute the Householder vector and parameter beta\n",
    "    # by using the jth column of A\n",
    "    vj, betaj = mca.House_vector(R[j:,j])\n",
    "    \n",
    "    v.append(vj)\n",
    "    beta.append(betaj)\n",
    "    \n",
    "    # Create the Householder transformation\n",
    "    Hj = np.identity(M)\n",
    "    Hj[j:,j:] -= betaj*np.outer(vj,vj)\n",
    "\n",
    "    H.append(Hj)\n",
    "\n",
    "    # Compute the product\n",
    "    R = Hj@R\n",
    "\n",
    "    P.append(R)"
   ]
  },
  {
   "cell_type": "code",
   "execution_count": 11,
   "metadata": {},
   "outputs": [],
   "source": [
    "# The list of Householder transformations H contains H0, H1, ..., HN-1\n",
    "# Matrix Q is defined as the transpose of the product HN-1 HN-2 ... H0\n",
    "Q = np.linalg.multi_dot(H[::-1]).T"
   ]
  },
  {
   "cell_type": "code",
   "execution_count": 12,
   "metadata": {},
   "outputs": [
    {
     "data": {
      "text/plain": [
       "True"
      ]
     },
     "execution_count": 12,
     "metadata": {},
     "output_type": "execute_result"
    }
   ],
   "source": [
    "# The computed Q and R matrices retrieve the original matrix A\n",
    "np.allclose(A, Q@R)"
   ]
  },
  {
   "cell_type": "code",
   "execution_count": 19,
   "metadata": {},
   "outputs": [
    {
     "data": {
      "text/plain": [
       "True"
      ]
     },
     "execution_count": 19,
     "metadata": {},
     "output_type": "execute_result"
    }
   ],
   "source": [
    "# Matrix R contains the lower triangular Cholesky factor of ATA\n",
    "np.allclose(A.T@A, R.T@R)"
   ]
  },
  {
   "cell_type": "code",
   "execution_count": 10,
   "metadata": {},
   "outputs": [
    {
     "data": {
      "image/png": "[encoded data removed]",
      "text/plain": [
       "<Figure size 1080x1080 with 22 Axes>"
      ]
     },
     "metadata": {
      "needs_background": "light"
     },
     "output_type": "display_data"
    }
   ],
   "source": [
    "plf.plot_matrices(matrices=P, size=(15,15), tol=1e-15, shape=(4,4))"
   ]
  },
  {
   "cell_type": "code",
   "execution_count": 13,
   "metadata": {},
   "outputs": [],
   "source": [
    "# The iterative scheme presented above is\n",
    "# implemented in function mca.QR_House\n",
    "R2 = A.copy()\n",
    "mca.QR_House(R2)"
   ]
  },
  {
   "cell_type": "code",
   "execution_count": 14,
   "metadata": {},
   "outputs": [],
   "source": [
    "# Function mca.QR_House stores the Householder vectors in the lower triangle \n",
    "# of the factored matrix. Function mca.Q_from_QR_House uses the stored Householder\n",
    "# vector to compute the matrix Q\n",
    "Q2 = mca.Q_from_QR_House(R2)"
   ]
  },
  {
   "cell_type": "code",
   "execution_count": 15,
   "metadata": {},
   "outputs": [],
   "source": [
    "# Remove the lower triangle containing the \n",
    "# Householder verctors and keep only upper triangle\n",
    "R2 = np.triu(R2)"
   ]
  },
  {
   "cell_type": "code",
   "execution_count": 16,
   "metadata": {},
   "outputs": [
    {
     "data": {
      "text/plain": [
       "True"
      ]
     },
     "execution_count": 16,
     "metadata": {},
     "output_type": "execute_result"
    }
   ],
   "source": [
    "# The computed Q2 and R2 matrices also retrieve the original matrix A\n",
    "np.allclose(A, Q2@R2)"
   ]
  },
  {
   "cell_type": "code",
   "execution_count": 17,
   "metadata": {},
   "outputs": [
    {
     "data": {
      "text/plain": [
       "True"
      ]
     },
     "execution_count": 17,
     "metadata": {},
     "output_type": "execute_result"
    }
   ],
   "source": [
    "# Matrices Q and Q2 are the same\n",
    "np.allclose(Q, Q2)"
   ]
  },
  {
   "cell_type": "code",
   "execution_count": 18,
   "metadata": {},
   "outputs": [
    {
     "data": {
      "text/plain": [
       "True"
      ]
     },
     "execution_count": 18,
     "metadata": {},
     "output_type": "execute_result"
    }
   ],
   "source": [
    "# Matrices R and R2 are the same\n",
    "np.allclose(R, R2)"
   ]
  },
  {
   "cell_type": "code",
   "execution_count": null,
   "metadata": {},
   "outputs": [],
   "source": []
  }
 ],
 "metadata": {
  "kernelspec": {
   "display_name": "Python 3",
   "language": "python",
   "name": "python3"
  },
  "language_info": {
   "codemirror_mode": {
    "name": "ipython",
    "version": 3
   },
   "file_extension": ".py",
   "mimetype": "text/x-python",
   "name": "python",
   "nbconvert_exporter": "python",
   "pygments_lexer": "ipython3",
   "version": "3.7.7"
  }
 },
 "nbformat": 4,
 "nbformat_minor": 1
}
