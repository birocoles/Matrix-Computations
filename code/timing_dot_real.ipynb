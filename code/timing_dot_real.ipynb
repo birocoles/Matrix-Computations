{
 "cells": [
  {
   "cell_type": "markdown",
   "metadata": {},
   "source": [
    "# Timing dot_real functions"
   ]
  },
  {
   "cell_type": "markdown",
   "metadata": {},
   "source": [
    "This code uses the magic function `%timeit`<sup> 1 2 </sup> to measure the excetution time of functions `dot_real_dumb` , `dot_real_numpy`, `dot_real_numba` and `dot_real_parallel`.\n",
    "\n",
    "* <sup> 1 </sup>[Profiling and Timing Code - excerpt from the Python Data Science Handbook by Jake VanderPlas](https://jakevdp.github.io/PythonDataScienceHandbook/01.07-timing-and-profiling.html)\n",
    "\n",
    "* <sup> 2 </sup>[Python documentation - timeit — Measure execution time of small code snippets](https://docs.python.org/3/library/timeit.html)"
   ]
  },
  {
   "cell_type": "code",
   "execution_count": 1,
   "metadata": {},
   "outputs": [],
   "source": [
    "import matplotlib.pyplot as plt\n",
    "import numpy as np\n",
    "import functions as fcs\n",
    "from tqdm.notebook import tqdm as tq # produce the progress bar"
   ]
  },
  {
   "cell_type": "code",
   "execution_count": 2,
   "metadata": {},
   "outputs": [],
   "source": [
    "# number of elements forming the vectors\n",
    "N = np.array([100, 300, 500, 700, 1000, 1500, 2000, 5000, 10000])"
   ]
  },
  {
   "cell_type": "code",
   "execution_count": 3,
   "metadata": {},
   "outputs": [
    {
     "data": {
      "application/vnd.jupyter.widget-view+json": {
       "model_id": "0aa2e2eaf57240d38d9f5f4fae29f338",
       "version_major": 2,
       "version_minor": 0
      },
      "text/plain": [
       "HBox(children=(FloatProgress(value=0.0, max=9.0), HTML(value='')))"
      ]
     },
     "metadata": {},
     "output_type": "display_data"
    },
    {
     "name": "stdout",
     "output_type": "stream",
     "text": [
      "81.6 µs ± 14.8 µs per loop (mean ± std. dev. of 100 runs, 100 loops each)\n",
      "10.6 µs ± 545 ns per loop (mean ± std. dev. of 100 runs, 100 loops each)\n",
      "The slowest run took 3534.08 times longer than the fastest. This could mean that an intermediate result is being cached.\n",
      "23.1 µs ± 224 µs per loop (mean ± std. dev. of 100 runs, 100 loops each)\n",
      "The slowest run took 197.77 times longer than the fastest. This could mean that an intermediate result is being cached.\n",
      "174 µs ± 533 µs per loop (mean ± std. dev. of 100 runs, 100 loops each)\n",
      "233 µs ± 26.8 µs per loop (mean ± std. dev. of 100 runs, 100 loops each)\n",
      "11.6 µs ± 751 ns per loop (mean ± std. dev. of 100 runs, 100 loops each)\n",
      "894 ns ± 250 ns per loop (mean ± std. dev. of 100 runs, 100 loops each)\n",
      "The slowest run took 6.77 times longer than the fastest. This could mean that an intermediate result is being cached.\n",
      "118 µs ± 26.9 µs per loop (mean ± std. dev. of 100 runs, 100 loops each)\n",
      "378 µs ± 25.9 µs per loop (mean ± std. dev. of 100 runs, 100 loops each)\n",
      "11.7 µs ± 656 ns per loop (mean ± std. dev. of 100 runs, 100 loops each)\n",
      "1.07 µs ± 256 ns per loop (mean ± std. dev. of 100 runs, 100 loops each)\n",
      "The slowest run took 5.43 times longer than the fastest. This could mean that an intermediate result is being cached.\n",
      "114 µs ± 24.3 µs per loop (mean ± std. dev. of 100 runs, 100 loops each)\n",
      "536 µs ± 29.7 µs per loop (mean ± std. dev. of 100 runs, 100 loops each)\n",
      "15 µs ± 2.68 µs per loop (mean ± std. dev. of 100 runs, 100 loops each)\n",
      "1.28 µs ± 270 ns per loop (mean ± std. dev. of 100 runs, 100 loops each)\n",
      "The slowest run took 5.88 times longer than the fastest. This could mean that an intermediate result is being cached.\n",
      "115 µs ± 26.1 µs per loop (mean ± std. dev. of 100 runs, 100 loops each)\n",
      "783 µs ± 29 µs per loop (mean ± std. dev. of 100 runs, 100 loops each)\n",
      "12.9 µs ± 507 ns per loop (mean ± std. dev. of 100 runs, 100 loops each)\n",
      "1.59 µs ± 262 ns per loop (mean ± std. dev. of 100 runs, 100 loops each)\n",
      "The slowest run took 4.63 times longer than the fastest. This could mean that an intermediate result is being cached.\n",
      "115 µs ± 23 µs per loop (mean ± std. dev. of 100 runs, 100 loops each)\n",
      "1.16 ms ± 37.3 µs per loop (mean ± std. dev. of 100 runs, 100 loops each)\n",
      "13.7 µs ± 1.2 µs per loop (mean ± std. dev. of 100 runs, 100 loops each)\n",
      "2.05 µs ± 282 ns per loop (mean ± std. dev. of 100 runs, 100 loops each)\n",
      "The slowest run took 4.51 times longer than the fastest. This could mean that an intermediate result is being cached.\n",
      "115 µs ± 23.9 µs per loop (mean ± std. dev. of 100 runs, 100 loops each)\n",
      "1.52 ms ± 48.3 µs per loop (mean ± std. dev. of 100 runs, 100 loops each)\n",
      "14.5 µs ± 422 ns per loop (mean ± std. dev. of 100 runs, 100 loops each)\n",
      "2.63 µs ± 214 ns per loop (mean ± std. dev. of 100 runs, 100 loops each)\n",
      "The slowest run took 4.40 times longer than the fastest. This could mean that an intermediate result is being cached.\n",
      "114 µs ± 23.8 µs per loop (mean ± std. dev. of 100 runs, 100 loops each)\n",
      "3.79 ms ± 50.5 µs per loop (mean ± std. dev. of 100 runs, 100 loops each)\n",
      "17.9 µs ± 682 ns per loop (mean ± std. dev. of 100 runs, 100 loops each)\n",
      "5.6 µs ± 480 ns per loop (mean ± std. dev. of 100 runs, 100 loops each)\n",
      "The slowest run took 5.37 times longer than the fastest. This could mean that an intermediate result is being cached.\n",
      "114 µs ± 23.3 µs per loop (mean ± std. dev. of 100 runs, 100 loops each)\n",
      "7.74 ms ± 92.4 µs per loop (mean ± std. dev. of 100 runs, 100 loops each)\n",
      "24 µs ± 1.4 µs per loop (mean ± std. dev. of 100 runs, 100 loops each)\n",
      "10.6 µs ± 434 ns per loop (mean ± std. dev. of 100 runs, 100 loops each)\n",
      "The slowest run took 5.14 times longer than the fastest. This could mean that an intermediate result is being cached.\n",
      "74.9 µs ± 37 µs per loop (mean ± std. dev. of 100 runs, 100 loops each)\n",
      "\n"
     ]
    }
   ],
   "source": [
    "list_time_dumb = []\n",
    "list_time_numpy = []\n",
    "list_time_numba = []\n",
    "list_time_parallel = []\n",
    "for Ni in tq(N):\n",
    "    vector = np.ones(Ni)\n",
    "    # dot_real_dumb\n",
    "    time = %timeit -o -n 100 -r 100 fcs.dot_real_dumb(vector, vector)\n",
    "    list_time_dumb.append(time.average)\n",
    "    # dot_real_numpy\n",
    "    time = %timeit -o -n 100 -r 100 fcs.dot_real_numpy(vector, vector)\n",
    "    list_time_numpy.append(time.average)\n",
    "    # dot_real_numba\n",
    "    time = %timeit -o -n 100 -r 100 fcs.dot_real_numba(vector, vector)\n",
    "    list_time_numba.append(time.average)\n",
    "    # dot_real_parallel\n",
    "    time = %timeit -o -n 100 -r 100 fcs.dot_real_parallel(vector, vector)\n",
    "    list_time_parallel.append(time.average)"
   ]
  },
  {
   "cell_type": "code",
   "execution_count": 4,
   "metadata": {},
   "outputs": [],
   "source": [
    "list_time_dumb = np.array(list_time_dumb)\n",
    "list_time_numpy = np.array(list_time_numpy)\n",
    "list_time_numba = np.array(list_time_numba)\n",
    "list_time_parallel = np.array(list_time_parallel)"
   ]
  },
  {
   "cell_type": "code",
   "execution_count": 5,
   "metadata": {},
   "outputs": [
    {
     "data": {
      "image/png": "[encoded data removed]",
      "text/plain": [
       "<Figure size 720x504 with 1 Axes>"
      ]
     },
     "metadata": {
      "needs_background": "light"
     },
     "output_type": "display_data"
    }
   ],
   "source": [
    "plt.figure(figsize=(10,7))\n",
    "plt.plot(N, list_time_dumb*1e6, 'bo-', label = 'dumb')\n",
    "plt.plot(N, list_time_numpy*1e6, 'ro-', label = 'numpy')\n",
    "plt.plot(N, list_time_numba*1e6, 'go-', label = 'numba')\n",
    "plt.plot(N, list_time_parallel*1e6, 'ko-', label = 'parallel')\n",
    "plt.legend(loc = 'best', fontsize = 14)\n",
    "plt.xticks(fontsize = 12)\n",
    "plt.yticks(fontsize = 12)\n",
    "plt.xlabel('N', fontsize = 16)\n",
    "plt.ylabel('Time ($\\mu$s)', fontsize = 16)\n",
    "plt.yscale('log')\n",
    "plt.grid()\n",
    "plt.show()"
   ]
  },
  {
   "cell_type": "code",
   "execution_count": null,
   "metadata": {},
   "outputs": [],
   "source": []
  }
 ],
 "metadata": {
  "kernelspec": {
   "display_name": "Python 3",
   "language": "python",
   "name": "python3"
  },
  "language_info": {
   "codemirror_mode": {
    "name": "ipython",
    "version": 3
   },
   "file_extension": ".py",
   "mimetype": "text/x-python",
   "name": "python",
   "nbconvert_exporter": "python",
   "pygments_lexer": "ipython3",
   "version": "3.7.4"
  }
 },
 "nbformat": 4,
 "nbformat_minor": 4
}
